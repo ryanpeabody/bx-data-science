{
 "cells": [
  {
   "cell_type": "markdown",
   "metadata": {},
   "source": [
    "# Lending Club Loan Origination Data\n",
    "#### Exploration, analysis, and modeling\n",
    "---\n",
    "**Ryan Peabody** </p>\n",
    "\n",
    "**6 January, 2019**\n",
    "\n",
    "---"
   ]
  },
  {
   "cell_type": "markdown",
   "metadata": {},
   "source": [
    "#### Package imports"
   ]
  },
  {
   "cell_type": "code",
   "execution_count": 52,
   "metadata": {
    "collapsed": true
   },
   "outputs": [],
   "source": [
    "import numpy as np\n",
    "import pandas as pd\n",
    "\n",
    "from IPython.display import display\n",
    "from pandas.api.types import CategoricalDtype\n",
    "\n",
    "%matplotlib inline"
   ]
  },
  {
   "cell_type": "markdown",
   "metadata": {},
   "source": [
    "###  Part 1: Data Exploration and Evaluation\n",
    "---\n",
    "\n",
    "The dataset of interest details Lending Club loan originations from 2007 to 2015, in a csv accessible through kaggle.com. The full dataset gives 55 features for 887,379 loans, but for our purposes we will be using the following 11 features:\n",
    "\n",
    "> **1. `loan_amnt`** (loan amount): The listed amount of the loan applied for by the borrower. If at some point in time, the credit department reduces the loan amount, then it will be reflected in this value.\n",
    "\n",
    "> **2. `funded_amnt`** (funded amount): The total amount committed to that loan at that point in time.\n",
    "\n",
    "> **3. `term`**: The number of payments on the loan. Values are in months and can be either 36 or 60.\n",
    "\n",
    "> **4. `int_rate`** (interest rate): Interest Rate on the loan.\n",
    "\n",
    "> **5. `grade`**: Lending Club assigned loan grade.\n",
    "\n",
    "> **6. `annual_inc`** (annual income): The self-reported annual income provided by the borrower during registration.\n",
    "\n",
    "> **7. `issue_d`** (issue date): The month and year in which the loan was funded.\n",
    "\n",
    "> **8. `dti`** (debt to income ratio): A ratio calculated using the borrower’s total monthly debt payments on the total debt obligations, excluding mortgage and the requested LC loan, divided by the borrower’s self-reported monthly income.\n",
    "\n",
    "> **9. `revol_bal`** (revolving balance): Total credit revolving balance.\n",
    "\n",
    "> **10. `total_pymnt`** (total payment): Payments received to date for total amount funded.\n",
    "\n",
    "> **11. `loan_status`** (loan status): Current status of the loan.\n",
    "\n",
    "---\n",
    "Let's begin by loading in the Lending Club loan dataset. Based on the provided definitions, we can attempt to enforce data types for some of the columns. As we read in the dataset, we'll take a quick look at the data itself, as well as try to get a sense of which columns should be categorized as numerical, categorical, or ordinal."
   ]
  },
  {
   "cell_type": "code",
   "execution_count": 22,
   "metadata": {},
   "outputs": [
    {
     "name": "stdout",
     "output_type": "stream",
     "text": [
      "\n",
      "Total number of rows: 887379\n",
      "Total number of features: 11\n"
     ]
    },
    {
     "data": {
      "text/html": [
       "<div>\n",
       "<style>\n",
       "    .dataframe thead tr:only-child th {\n",
       "        text-align: right;\n",
       "    }\n",
       "\n",
       "    .dataframe thead th {\n",
       "        text-align: left;\n",
       "    }\n",
       "\n",
       "    .dataframe tbody tr th {\n",
       "        vertical-align: top;\n",
       "    }\n",
       "</style>\n",
       "<table border=\"1\" class=\"dataframe\">\n",
       "  <thead>\n",
       "    <tr style=\"text-align: right;\">\n",
       "      <th></th>\n",
       "      <th>loan_amnt</th>\n",
       "      <th>funded_amnt</th>\n",
       "      <th>term</th>\n",
       "      <th>int_rate</th>\n",
       "      <th>grade</th>\n",
       "      <th>annual_inc</th>\n",
       "      <th>issue_d</th>\n",
       "      <th>loan_status</th>\n",
       "      <th>dti</th>\n",
       "      <th>revol_bal</th>\n",
       "      <th>total_pymnt</th>\n",
       "    </tr>\n",
       "  </thead>\n",
       "  <tbody>\n",
       "    <tr>\n",
       "      <th>887374</th>\n",
       "      <td>10000</td>\n",
       "      <td>10000</td>\n",
       "      <td>36 months</td>\n",
       "      <td>11.99</td>\n",
       "      <td>B</td>\n",
       "      <td>31000</td>\n",
       "      <td>Jan-2015</td>\n",
       "      <td>Current</td>\n",
       "      <td>28.69</td>\n",
       "      <td>14037</td>\n",
       "      <td>3971.88</td>\n",
       "    </tr>\n",
       "    <tr>\n",
       "      <th>887375</th>\n",
       "      <td>24000</td>\n",
       "      <td>24000</td>\n",
       "      <td>36 months</td>\n",
       "      <td>11.99</td>\n",
       "      <td>B</td>\n",
       "      <td>79000</td>\n",
       "      <td>Jan-2015</td>\n",
       "      <td>Current</td>\n",
       "      <td>3.9</td>\n",
       "      <td>8621</td>\n",
       "      <td>9532.39</td>\n",
       "    </tr>\n",
       "    <tr>\n",
       "      <th>887376</th>\n",
       "      <td>13000</td>\n",
       "      <td>13000</td>\n",
       "      <td>60 months</td>\n",
       "      <td>15.99</td>\n",
       "      <td>D</td>\n",
       "      <td>35000</td>\n",
       "      <td>Jan-2015</td>\n",
       "      <td>Current</td>\n",
       "      <td>30.9</td>\n",
       "      <td>11031</td>\n",
       "      <td>3769.74</td>\n",
       "    </tr>\n",
       "    <tr>\n",
       "      <th>887377</th>\n",
       "      <td>12000</td>\n",
       "      <td>12000</td>\n",
       "      <td>60 months</td>\n",
       "      <td>19.99</td>\n",
       "      <td>E</td>\n",
       "      <td>64400</td>\n",
       "      <td>Jan-2015</td>\n",
       "      <td>Current</td>\n",
       "      <td>27.19</td>\n",
       "      <td>8254</td>\n",
       "      <td>3787.67</td>\n",
       "    </tr>\n",
       "    <tr>\n",
       "      <th>887378</th>\n",
       "      <td>20000</td>\n",
       "      <td>20000</td>\n",
       "      <td>36 months</td>\n",
       "      <td>11.99</td>\n",
       "      <td>B</td>\n",
       "      <td>100000</td>\n",
       "      <td>Jan-2015</td>\n",
       "      <td>Current</td>\n",
       "      <td>10.83</td>\n",
       "      <td>33266</td>\n",
       "      <td>7943.76</td>\n",
       "    </tr>\n",
       "    <tr>\n",
       "      <th>Data type</th>\n",
       "      <td>float64</td>\n",
       "      <td>float64</td>\n",
       "      <td>object</td>\n",
       "      <td>float64</td>\n",
       "      <td>object</td>\n",
       "      <td>float64</td>\n",
       "      <td>object</td>\n",
       "      <td>object</td>\n",
       "      <td>float64</td>\n",
       "      <td>float64</td>\n",
       "      <td>float64</td>\n",
       "    </tr>\n",
       "    <tr>\n",
       "      <th>Number of unique values</th>\n",
       "      <td>1372</td>\n",
       "      <td>1372</td>\n",
       "      <td>2</td>\n",
       "      <td>542</td>\n",
       "      <td>7</td>\n",
       "      <td>49385</td>\n",
       "      <td>103</td>\n",
       "      <td>10</td>\n",
       "      <td>4086</td>\n",
       "      <td>73740</td>\n",
       "      <td>506726</td>\n",
       "    </tr>\n",
       "    <tr>\n",
       "      <th>Number of NaNs</th>\n",
       "      <td>0</td>\n",
       "      <td>0</td>\n",
       "      <td>0</td>\n",
       "      <td>0</td>\n",
       "      <td>0</td>\n",
       "      <td>4</td>\n",
       "      <td>0</td>\n",
       "      <td>0</td>\n",
       "      <td>0</td>\n",
       "      <td>0</td>\n",
       "      <td>0</td>\n",
       "    </tr>\n",
       "  </tbody>\n",
       "</table>\n",
       "</div>"
      ],
      "text/plain": [
       "                        loan_amnt funded_amnt        term int_rate   grade  \\\n",
       "887374                      10000       10000   36 months    11.99       B   \n",
       "887375                      24000       24000   36 months    11.99       B   \n",
       "887376                      13000       13000   60 months    15.99       D   \n",
       "887377                      12000       12000   60 months    19.99       E   \n",
       "887378                      20000       20000   36 months    11.99       B   \n",
       "Data type                 float64     float64      object  float64  object   \n",
       "Number of unique values      1372        1372           2      542       7   \n",
       "Number of NaNs                  0           0           0        0       0   \n",
       "\n",
       "                        annual_inc   issue_d loan_status      dti revol_bal  \\\n",
       "887374                       31000  Jan-2015     Current    28.69     14037   \n",
       "887375                       79000  Jan-2015     Current      3.9      8621   \n",
       "887376                       35000  Jan-2015     Current     30.9     11031   \n",
       "887377                       64400  Jan-2015     Current    27.19      8254   \n",
       "887378                      100000  Jan-2015     Current    10.83     33266   \n",
       "Data type                  float64    object      object  float64   float64   \n",
       "Number of unique values      49385       103          10     4086     73740   \n",
       "Number of NaNs                   4         0           0        0         0   \n",
       "\n",
       "                        total_pymnt  \n",
       "887374                      3971.88  \n",
       "887375                      9532.39  \n",
       "887376                      3769.74  \n",
       "887377                      3787.67  \n",
       "887378                      7943.76  \n",
       "Data type                   float64  \n",
       "Number of unique values      506726  \n",
       "Number of NaNs                    0  "
      ]
     },
     "metadata": {},
     "output_type": "display_data"
    }
   ],
   "source": [
    "# Read in DataFrame of loan dataset, enforcing datatypes where possible\n",
    "columns = {'loan_amnt': float,'funded_amnt': float, 'term': str, 'int_rate': float, 'grade': str,\n",
    "           'annual_inc': float, 'issue_d': str, 'dti': float, 'revol_bal': float, 'total_pymnt': float,\n",
    "           'loan_status': str}\n",
    "df = pd.read_csv(\"loan.csv\", usecols=columns.keys(), dtype=columns)\n",
    "\n",
    "# Take an initial look at the dimensions, several rows of the loan dataset, the number of unique values in each\n",
    "# column, as well as the number of NaNs in each column\n",
    "df_display = pd.DataFrame(df.tail())\n",
    "df_display.loc['Data type', columns.keys()] = df_display.dtypes\n",
    "df_display.loc['Number of unique values', columns.keys()] = df.apply(lambda c: len(c.unique()))\n",
    "df_display.loc['Number of NaNs', columns.keys()] = df.isnull().sum(axis=0)\n",
    "\n",
    "print('')\n",
    "print('Total number of rows: {}'.format(df.shape[0]))\n",
    "print('Total number of features: {}'.format(df.shape[1]))\n",
    "display(df_display)"
   ]
  },
  {
   "cell_type": "markdown",
   "metadata": {},
   "source": [
    "Now that we've seen some of the data firsthand, we can ensure that each column has the appropriate datatype, as well as investigate the four rows with missing data.\n",
    "\n",
    "---\n",
    "Numerical features read in as floats (**`loan_amnt`**, **`funded_amnt`**, **`int_rate`**, **`annual_inc`**, **`dti`**, **`revol_bal`**, **`total_pymnt`**) has been assigned the correct data type, and none are missing data\n",
    "\n",
    "---\n",
    "On the surface, **`term`** would appear to be a numerical interval variable, specifying the number of months the loan was issued for, but at regularly and evenly spaced intervals. For example, automobile loans are given over terms that only vary by twelve-month intervals. However, Lending Club only allows loans with 36 or 60-month terms (https://help.lendingclub.com/hc/en-us/articles/215466718-What-are-the-terms-of-the-loans-), allowing **`term`** to be treated as a categorical variable. Technically, **`term`** is an ordinal categorical variable, but with only two possible values, the rank of each value is mathematically unimportant."
   ]
  },
  {
   "cell_type": "code",
   "execution_count": 57,
   "metadata": {},
   "outputs": [],
   "source": [
    "df['term'] = pd.Categorical(df['term'])"
   ]
  },
  {
   "cell_type": "markdown",
   "metadata": {},
   "source": [
    "**`Grade`** is an ordinal categorical variable, with ranks A-G. Lending Club actually further subdivides each grade into five subgrades (1-5), which are then used to directly calculate a lendee's final interest rate as a function of the lendee's risk of default (https://www.lendingclub.com/foliofn/rateDetail.action). We need to convert **`grade`** to a categorical variable, but preserve the rank of the loans from A-G."
   ]
  },
  {
   "cell_type": "code",
   "execution_count": 59,
   "metadata": {},
   "outputs": [],
   "source": [
    "df['grade'] = pd.Categorical(df['grade'], ordered=True)"
   ]
  },
  {
   "cell_type": "markdown",
   "metadata": {},
   "source": [
    "**`Annual_inc`** contains the only missing rows in our 11-feature subset of the dataset. Let's take a look at them, as well as four other rows without missing data for comparison."
   ]
  },
  {
   "cell_type": "code",
   "execution_count": null,
   "metadata": {},
   "outputs": [],
   "source": [
    "# Get indices of mising rows\n",
    "I = df['annual_inc'].isnull()\n",
    "df_display = df.loc[I, :]\n",
    "df_display = df_display.append(df.head())\n",
    "\n",
    "# Get mean values for missing row features, as well as the whole dataset\n",
    "df_display.loc['Mean of missing rows', :] = df.loc[I, :].mean()\n",
    "df_display.loc['Mean of entire dataset', :] = df.mean()\n",
    "\n",
    "display(df_display)"
   ]
  },
  {
   "cell_type": "markdown",
   "metadata": {},
   "source": [
    "There is "
   ]
  },
  {
   "cell_type": "code",
   "execution_count": 34,
   "metadata": {},
   "outputs": [
    {
     "data": {
      "text/plain": [
       "887379"
      ]
     },
     "execution_count": 34,
     "metadata": {},
     "output_type": "execute_result"
    }
   ],
   "source": [
    "I = df.loc[:, 'loan_status'] == 'Does not meet the credit policy. Status:Fully Paid'\n",
    "len(df.loc[I, :])"
   ]
  },
  {
   "cell_type": "code",
   "execution_count": 4,
   "metadata": {},
   "outputs": [
    {
     "data": {
      "text/plain": [
       "0   2011-12-15\n",
       "1   2011-12-15\n",
       "2   2011-12-15\n",
       "3   2011-12-15\n",
       "4   2011-12-15\n",
       "5   2011-12-15\n",
       "Name: issue_d, dtype: datetime64[ns]"
      ]
     },
     "execution_count": 4,
     "metadata": {},
     "output_type": "execute_result"
    }
   ],
   "source": [
    "df['issue_d'] = pd.to_datetime(df.loc[:5, 'issue_d']).apply(lambda dt: dt.replace(day=15))"
   ]
  },
  {
   "cell_type": "code",
   "execution_count": 20,
   "metadata": {},
   "outputs": [
    {
     "data": {
      "text/plain": [
       "loan_amnt      0\n",
       "funded_amnt    0\n",
       "term           0\n",
       "int_rate       0\n",
       "grade          0\n",
       "annual_inc     4\n",
       "issue_d        0\n",
       "loan_status    0\n",
       "dti            0\n",
       "revol_bal      0\n",
       "total_pymnt    0\n",
       "dtype: int64"
      ]
     },
     "execution_count": 20,
     "metadata": {},
     "output_type": "execute_result"
    }
   ],
   "source": []
  },
  {
   "cell_type": "code",
   "execution_count": null,
   "metadata": {
    "collapsed": true
   },
   "outputs": [],
   "source": []
  }
 ],
 "metadata": {
  "kernelspec": {
   "display_name": "Python 3",
   "language": "python",
   "name": "python3"
  },
  "language_info": {
   "codemirror_mode": {
    "name": "ipython",
    "version": 3
   },
   "file_extension": ".py",
   "mimetype": "text/x-python",
   "name": "python",
   "nbconvert_exporter": "python",
   "pygments_lexer": "ipython3",
   "version": "3.5.4"
  }
 },
 "nbformat": 4,
 "nbformat_minor": 2
}
